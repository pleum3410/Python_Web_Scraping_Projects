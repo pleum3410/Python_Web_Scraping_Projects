{
 "cells": [
  {
   "cell_type": "code",
   "execution_count": 1,
   "id": "fc57e905",
   "metadata": {},
   "outputs": [],
   "source": [
    "import csv\n",
    "from bs4 import BeautifulSoup\n",
    "from selenium import webdriver\n",
    "from webdriver_manager.chrome import ChromeDriverManager\n",
    "import pandas as pd "
   ]
  },
  {
   "cell_type": "code",
   "execution_count": 57,
   "id": "0130b1ab",
   "metadata": {},
   "outputs": [
    {
     "name": "stdout",
     "output_type": "stream",
     "text": [
      "https://th.indeed.com/งาน?q=Data+Science&start={}\n"
     ]
    }
   ],
   "source": [
    "# initial variables\n",
    "search_term = \"Data Science\"\n",
    "pages = 30\n",
    "records = []\n",
    "col_name = ['JopTitle', 'CompName', 'CompLocation', 'PostDate', 'Description', 'JopURL']\n",
    "template = 'https://th.indeed.com/งาน?q={}'\n",
    "search_text = search_term.replace(' ', '+')\n",
    "# add term query to url\n",
    "url = template.format(search_text)\n",
    "# add page query placeholder\n",
    "url += '&start={}'\n",
    "\n",
    "print(url)"
   ]
  },
  {
   "cell_type": "code",
   "execution_count": null,
   "id": "b882439f",
   "metadata": {},
   "outputs": [
    {
     "name": "stdout",
     "output_type": "stream",
     "text": [
      "\n"
     ]
    },
    {
     "name": "stderr",
     "output_type": "stream",
     "text": [
      "[WDM] - ====== WebDriver manager ======\n",
      "[WDM] - Current google-chrome version is 102.0.5005\n",
      "[WDM] - Get LATEST chromedriver version for 102.0.5005 google-chrome\n",
      "[WDM] - Driver [C:\\Users\\Pleum\\.wdm\\drivers\\chromedriver\\win32\\102.0.5005.61\\chromedriver.exe] found in cache\n"
     ]
    },
    {
     "name": "stdout",
     "output_type": "stream",
     "text": [
      "Scraping from url https://th.indeed.com/งาน?q=Data+Science&start=1 page 1\n",
      "Scraping from url https://th.indeed.com/งาน?q=Data+Science&start=2 page 2\n",
      "Scraping from url https://th.indeed.com/งาน?q=Data+Science&start=3 page 3\n",
      "Scraping from url https://th.indeed.com/งาน?q=Data+Science&start=4 page 4\n",
      "Scraping from url https://th.indeed.com/งาน?q=Data+Science&start=5 page 5\n",
      "Scraping from url https://th.indeed.com/งาน?q=Data+Science&start=6 page 6\n",
      "Scraping from url https://th.indeed.com/งาน?q=Data+Science&start=7 page 7\n",
      "Scraping from url https://th.indeed.com/งาน?q=Data+Science&start=8 page 8\n",
      "Scraping from url https://th.indeed.com/งาน?q=Data+Science&start=9 page 9\n"
     ]
    }
   ],
   "source": [
    "# startup the webdriver\n",
    "driver = webdriver.Chrome(ChromeDriverManager().install())\n",
    "\n",
    "for page in range(1, pages+1):\n",
    "    formated_url = url.format(page)\n",
    "    print(f\"Scraping from url {formated_url} page {page}\")\n",
    "    \n",
    "    driver.get(formated_url)\n",
    "    driver.implicitly_wait(5) # gives an implicit wait for 5 seconds\n",
    "    \n",
    "    soup = BeautifulSoup(driver.page_source, 'html.parser')\n",
    "    ul = soup.find('ul', {'class': 'jobsearch-ResultsList'})\n",
    "    results = ul.findChildren(\"li\" , recursive=False)\n",
    "    #results = soup.find_all('ul', {'class': 'jobsearch-ResultsList'})\n",
    "    for item in results:\n",
    "        try:\n",
    "            title = item.find('a', {'class': 'jcs-JobTitle'}).span.get('title')\n",
    "            comp_name = item.find('span', {'class': 'companyName'}).text\n",
    "            comp_location = item.find('div',{'class': 'companyLocation'}).text\n",
    "            \n",
    "            try:\n",
    "                description = item.find('div', {'class': 'heading6 tapItem-gutter result-footer'}).div.ul.li.text\n",
    "            except AttributeError:\n",
    "                description = item.find('div', {'class': 'heading6 tapItem-gutter result-footer'}).div.text\n",
    "                \n",
    "            post_date = item.find('span', {'class': 'date'}).text\n",
    "            jop_url = 'https://th.indeed.com' + item.find('a', {'class': 'jcs-JobTitle'}).get('href')\n",
    "        except AttributeError as e:\n",
    "            print('', end='')\n",
    "            \n",
    "        record = (title, comp_name, comp_location, post_date, description, jop_url)\n",
    "        if record:\n",
    "            records.append(record)\n",
    "\n",
    "driver.close()\n",
    "\n",
    "print(f\"\\nScraped. total {len(records)+1} records\")"
   ]
  },
  {
   "cell_type": "code",
   "execution_count": 55,
   "id": "f28a7919",
   "metadata": {},
   "outputs": [
    {
     "data": {
      "text/html": [
       "<div>\n",
       "<style scoped>\n",
       "    .dataframe tbody tr th:only-of-type {\n",
       "        vertical-align: middle;\n",
       "    }\n",
       "\n",
       "    .dataframe tbody tr th {\n",
       "        vertical-align: top;\n",
       "    }\n",
       "\n",
       "    .dataframe thead th {\n",
       "        text-align: right;\n",
       "    }\n",
       "</style>\n",
       "<table border=\"1\" class=\"dataframe\">\n",
       "  <thead>\n",
       "    <tr style=\"text-align: right;\">\n",
       "      <th></th>\n",
       "      <th>JopTitle</th>\n",
       "      <th>CompName</th>\n",
       "      <th>CompLocation</th>\n",
       "      <th>PostDate</th>\n",
       "      <th>Description</th>\n",
       "      <th>JopURL</th>\n",
       "    </tr>\n",
       "  </thead>\n",
       "  <tbody>\n",
       "    <tr>\n",
       "      <th>0</th>\n",
       "      <td>Talent Acquisition Support</td>\n",
       "      <td>PwC</td>\n",
       "      <td>กรุงเทพมหานคร</td>\n",
       "      <td>Posted7 days ago</td>\n",
       "      <td>Our team actively recruits for full time emplo...</td>\n",
       "      <td>https://th.indeed.com/rc/clk?jk=2e2bea387f5ad6...</td>\n",
       "    </tr>\n",
       "    <tr>\n",
       "      <th>1</th>\n",
       "      <td>Application Support (Customer Service)</td>\n",
       "      <td>Wealth Management System</td>\n",
       "      <td>คลองสาน, กรุงเทพมหานคร</td>\n",
       "      <td>Posted30+ days ago</td>\n",
       "      <td>Perform problem analysis and provide applicati...</td>\n",
       "      <td>https://th.indeed.com/rc/clk?jk=7918c55a5e4b33...</td>\n",
       "    </tr>\n",
       "    <tr>\n",
       "      <th>2</th>\n",
       "      <td>IT support</td>\n",
       "      <td>บริษัทจัดหางาน เวิร์คเมท โซลูชั่นส์ จำกัด</td>\n",
       "      <td>คลองเตย, กรุงเทพมหานคร</td>\n",
       "      <td>EmployerActive 2 days ago</td>\n",
       "      <td>การแก้ไขปัญหาแอปพลิเคชันและทำงานร่วมกับทีมภายใ...</td>\n",
       "      <td>https://th.indeed.com/company/%E0%B8%9A%E0%B8%...</td>\n",
       "    </tr>\n",
       "    <tr>\n",
       "      <th>3</th>\n",
       "      <td>IT One - SAP SD support</td>\n",
       "      <td>Accenture</td>\n",
       "      <td>กรุงเทพมหานคร</td>\n",
       "      <td>Posted6 days ago</td>\n",
       "      <td>Join AM SLM to support SAP SD for SCG and othe...</td>\n",
       "      <td>https://th.indeed.com/rc/clk?jk=28680d79588866...</td>\n",
       "    </tr>\n",
       "    <tr>\n",
       "      <th>4</th>\n",
       "      <td>Regional Policy Support Officer</td>\n",
       "      <td>United Nations ESCAP</td>\n",
       "      <td>กรุงเทพมหานคร</td>\n",
       "      <td>Posted8 days ago</td>\n",
       "      <td>Framework; support coordination of migration p...</td>\n",
       "      <td>https://th.indeed.com/rc/clk?jk=524ff63d89b1ed...</td>\n",
       "    </tr>\n",
       "  </tbody>\n",
       "</table>\n",
       "</div>"
      ],
      "text/plain": [
       "                                 JopTitle  \\\n",
       "0              Talent Acquisition Support   \n",
       "1  Application Support (Customer Service)   \n",
       "2                              IT support   \n",
       "3                 IT One - SAP SD support   \n",
       "4         Regional Policy Support Officer   \n",
       "\n",
       "                                    CompName            CompLocation  \\\n",
       "0                                        PwC           กรุงเทพมหานคร   \n",
       "1                   Wealth Management System  คลองสาน, กรุงเทพมหานคร   \n",
       "2  บริษัทจัดหางาน เวิร์คเมท โซลูชั่นส์ จำกัด  คลองเตย, กรุงเทพมหานคร   \n",
       "3                                  Accenture           กรุงเทพมหานคร   \n",
       "4                       United Nations ESCAP           กรุงเทพมหานคร   \n",
       "\n",
       "                    PostDate  \\\n",
       "0           Posted7 days ago   \n",
       "1         Posted30+ days ago   \n",
       "2  EmployerActive 2 days ago   \n",
       "3           Posted6 days ago   \n",
       "4           Posted8 days ago   \n",
       "\n",
       "                                         Description  \\\n",
       "0  Our team actively recruits for full time emplo...   \n",
       "1  Perform problem analysis and provide applicati...   \n",
       "2  การแก้ไขปัญหาแอปพลิเคชันและทำงานร่วมกับทีมภายใ...   \n",
       "3  Join AM SLM to support SAP SD for SCG and othe...   \n",
       "4  Framework; support coordination of migration p...   \n",
       "\n",
       "                                              JopURL  \n",
       "0  https://th.indeed.com/rc/clk?jk=2e2bea387f5ad6...  \n",
       "1  https://th.indeed.com/rc/clk?jk=7918c55a5e4b33...  \n",
       "2  https://th.indeed.com/company/%E0%B8%9A%E0%B8%...  \n",
       "3  https://th.indeed.com/rc/clk?jk=28680d79588866...  \n",
       "4  https://th.indeed.com/rc/clk?jk=524ff63d89b1ed...  "
      ]
     },
     "execution_count": 55,
     "metadata": {},
     "output_type": "execute_result"
    }
   ],
   "source": [
    "# show records\n",
    "df = pd.DataFrame(records)\n",
    "df.columns = col_name\n",
    "\n",
    "df.head()"
   ]
  },
  {
   "cell_type": "code",
   "execution_count": 56,
   "id": "8ed92627",
   "metadata": {},
   "outputs": [
    {
     "name": "stdout",
     "output_type": "stream",
     "text": [
      "finish\n"
     ]
    }
   ],
   "source": [
    "# save data to csv file\n",
    "search_term = search_term.replace(' ', '_')\n",
    "\n",
    "from datetime import datetime\n",
    "cur_date = datetime.today().strftime('%d-%m-%Y')\n",
    "\n",
    "with open(f'{search_term} {cur_date}.csv', 'w', newline='', encoding='utf-8-sig') as f:\n",
    "    writer = csv.writer(f)\n",
    "    writer.writerow(col_name)\n",
    "    writer.writerows(records)\n",
    "    \n",
    "print('finish')"
   ]
  },
  {
   "cell_type": "code",
   "execution_count": null,
   "id": "667b96ba",
   "metadata": {},
   "outputs": [],
   "source": []
  }
 ],
 "metadata": {
  "kernelspec": {
   "display_name": "Python 3 (ipykernel)",
   "language": "python",
   "name": "python3"
  },
  "language_info": {
   "codemirror_mode": {
    "name": "ipython",
    "version": 3
   },
   "file_extension": ".py",
   "mimetype": "text/x-python",
   "name": "python",
   "nbconvert_exporter": "python",
   "pygments_lexer": "ipython3",
   "version": "3.7.4"
  }
 },
 "nbformat": 4,
 "nbformat_minor": 5
}
